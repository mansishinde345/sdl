{
 "cells": [
  {
   "cell_type": "code",
   "execution_count": 1,
   "metadata": {},
   "outputs": [
    {
     "data": {
      "text/plain": [
       "2"
      ]
     },
     "execution_count": 1,
     "metadata": {},
     "output_type": "execute_result"
    }
   ],
   "source": [
    "x=2\n",
    "x\n"
   ]
  },
  {
   "cell_type": "code",
   "execution_count": 2,
   "metadata": {},
   "outputs": [],
   "source": [
    "y=4\n",
    "z=x+y*x"
   ]
  },
  {
   "cell_type": "code",
   "execution_count": null,
   "metadata": {},
   "outputs": [],
   "source": []
  },
  {
   "cell_type": "code",
   "execution_count": 3,
   "metadata": {},
   "outputs": [
    {
     "data": {
      "text/plain": [
       "10"
      ]
     },
     "execution_count": 3,
     "metadata": {},
     "output_type": "execute_result"
    }
   ],
   "source": [
    "z\n"
   ]
  },
  {
   "cell_type": "code",
   "execution_count": 4,
   "metadata": {},
   "outputs": [],
   "source": [
    "s=x+y*z\n"
   ]
  },
  {
   "cell_type": "code",
   "execution_count": 5,
   "metadata": {},
   "outputs": [
    {
     "data": {
      "text/plain": [
       "42"
      ]
     },
     "execution_count": 5,
     "metadata": {},
     "output_type": "execute_result"
    }
   ],
   "source": [
    "s"
   ]
  },
  {
   "cell_type": "code",
   "execution_count": 6,
   "metadata": {},
   "outputs": [
    {
     "name": "stdout",
     "output_type": "stream",
     "text": [
      "Set A is:\n",
      "{1, 2, 3, 4}\n",
      "4\n",
      "False\n",
      "True\n",
      "Set B is:\n",
      "{3, 4, 5, 6}\n",
      "4\n",
      "Union\n",
      "{1, 2, 3, 4, 5, 6}\n",
      "Intersection\n",
      "{3, 4}\n",
      "Difference\n",
      "{1, 2}\n",
      "Symmetric difference\n",
      "{1, 2, 5, 6}\n",
      "All set operations using predefined function\n",
      "{1, 2, 3, 4, 5, 6}\n",
      "{3, 4}\n",
      "{1, 2}\n",
      "{1, 2, 5, 6}\n"
     ]
    }
   ],
   "source": [
    "A=set([1,2,3,4])\n",
    "B=set([ 3,4,5,6])\n",
    "\n",
    "print('Set A is:')\n",
    "print(A)\n",
    "print(len(A))\n",
    "print(6 in A)\n",
    "\n",
    "\n",
    "\n",
    "print(1 in A)\n",
    "print('Set B is:')\n",
    "print(B)\n",
    "print(len(B))\n",
    "      \n",
    "print('Union')\n",
    "print(A|B)\n",
    "\n",
    "print('Intersection')\n",
    "print(A&B)\n",
    "\n",
    "print('Difference')\n",
    "print(A-B)\n",
    "\n",
    "print('Symmetric difference')\n",
    "print(A^B)\n",
    "\n",
    "print(\"All set operations using predefined function\")\n",
    "print(A.union(B))\n",
    "print(A.intersection(B))\n",
    "print(A.difference(B))\n",
    "print(A.symmetric_difference(B))"
   ]
  },
  {
   "cell_type": "code",
   "execution_count": null,
   "metadata": {},
   "outputs": [],
   "source": []
  }
 ],
 "metadata": {
  "kernelspec": {
   "display_name": "Python 3",
   "language": "python",
   "name": "python3"
  },
  "language_info": {
   "codemirror_mode": {
    "name": "ipython",
    "version": 3
   },
   "file_extension": ".py",
   "mimetype": "text/x-python",
   "name": "python",
   "nbconvert_exporter": "python",
   "pygments_lexer": "ipython3",
   "version": "3.5.2"
  }
 },
 "nbformat": 4,
 "nbformat_minor": 2
}
